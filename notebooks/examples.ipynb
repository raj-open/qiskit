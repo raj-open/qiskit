{
 "cells": [
  {
   "cell_type": "markdown",
   "metadata": {},
   "source": [
    "# Examples #\n",
    "\n",
    "This notebook demonstrates usage of IBM qiskit, how to deal in this repository with circuits to be executed on the simulator, and those to be properly run on the backend ('queue')."
   ]
  },
  {
   "cell_type": "code",
   "execution_count": null,
   "metadata": {},
   "outputs": [],
   "source": [
    "''' IMPORTS '''\n",
    "import os;\n",
    "import sys;\n",
    "\n",
    "# NOTE: need this to force jupyter to reload imports:\n",
    "for key in list(sys.modules.keys()):\n",
    "    if key.startswith('src.'):\n",
    "        del sys.modules[key];\n",
    "\n",
    "os.chdir(os.path.dirname(_dh[0]));\n",
    "sys.path.insert(0, os.getcwd());\n",
    "\n",
    "from src.thirdparty.maths import *;\n",
    "from src.thirdparty.quantum import *;\n",
    "from src.thirdparty.render import *;\n",
    "from src.api import *;\n",
    "\n",
    "np.random.seed(39102901); # for repeatability"
   ]
  },
  {
   "cell_type": "code",
   "execution_count": null,
   "metadata": {},
   "outputs": [],
   "source": [
    "'''Example usage of simulator'''\n",
    "@connect_to_backend(option=BACKEND_SIMULATOR.AER)\n",
    "def action(option, backend, num_shots: int):\n",
    "    # create circuit:\n",
    "    print('Example quantum circuit with simulator');\n",
    "    u, u_inv = qk_unitary_gate_pair(theta1=np.pi/3, theta2=0, theta3=np.pi/4);\n",
    "    circuit = QuantumCircuit(3, 3);\n",
    "    circuit.append(u, [2]);\n",
    "    circuit.barrier();\n",
    "    circuit.h(1);\n",
    "    circuit.x(1);\n",
    "    circuit.cx(1, 2);\n",
    "    circuit.x(1);\n",
    "    circuit.h(1);\n",
    "    circuit.cx(2, 0);\n",
    "    circuit.barrier();\n",
    "    circuit.append(u_inv, [2]);\n",
    "    circuit.measure(0, 0);\n",
    "    circuit.measure(1, 1);\n",
    "    circuit.measure(2, 2);\n",
    "\n",
    "    # display circuit:\n",
    "    display(circuit.draw(output=DRAW_MODE.COLOUR.value, cregbundle=False, initial_state=True));\n",
    "\n",
    "    # create job:\n",
    "    circuit = qk_transpile(circuit, backend);\n",
    "    job = qk_execute(\n",
    "        experiments = circuit,\n",
    "        backend = backend,\n",
    "        shots = num_shots,\n",
    "        optimization_level = 3,\n",
    "    );\n",
    "    print(latest_info(backend=backend, job=job));\n",
    "    # need this to keep track internally of the latest simulated job\n",
    "    latest_state.set_job(job=job, queue=False);\n",
    "\n",
    "action(num_shots=1000);"
   ]
  },
  {
   "cell_type": "code",
   "execution_count": null,
   "metadata": {},
   "outputs": [],
   "source": [
    "@recover_job(queue=False, ensure_job_done=True, use_latest=True)\n",
    "def action(job: IBMQJob):\n",
    "    result = job.result();\n",
    "    counts, _ = get_counts(result, pad=True);\n",
    "    display(QkVisualisation.plot_histogram(counts, title='Measurements'));\n",
    "\n",
    "action();"
   ]
  },
  {
   "cell_type": "code",
   "execution_count": null,
   "metadata": {},
   "outputs": [],
   "source": [
    "provider = get_ibm_account(force_reload=False);\n",
    "display(provider.backends());"
   ]
  },
  {
   "cell_type": "code",
   "execution_count": null,
   "metadata": {},
   "outputs": [],
   "source": [
    "'''Example usage of IBM backend / queue'''\n",
    "@connect_to_backend(option=BACKEND.LEAST_BUSY)\n",
    "def action(option, backend, num_shots: int):\n",
    "    # create circuit:\n",
    "    print('Example quantum circuit with backend');\n",
    "    circuit = QuantumCircuit(3, 3);\n",
    "    circuit.u(np.pi/3,0,np.pi/4,2);\n",
    "    circuit.barrier();\n",
    "    circuit.h(1);\n",
    "    circuit.x(1);\n",
    "    circuit.cx(1, 2);\n",
    "    circuit.x(1);\n",
    "    circuit.h(1);\n",
    "    circuit.cx(2, 0);\n",
    "    circuit.barrier();\n",
    "    circuit.u(-np.pi/3,-0,-np.pi/4,2);\n",
    "    circuit.measure(0, 0);\n",
    "    circuit.measure(1, 1);\n",
    "    circuit.measure(2, 2);\n",
    "\n",
    "    # display circuit:\n",
    "    display(circuit.draw(output=DRAW_MODE.COLOUR.value, cregbundle=False, initial_state=True));\n",
    "\n",
    "    # create job:\n",
    "    circuit = qk_transpile(circuit, backend);\n",
    "    job = qk_execute(\n",
    "        experiments = circuit,\n",
    "        backend = backend,\n",
    "        shots = num_shots,\n",
    "        optimization_level = 3,\n",
    "    );\n",
    "    print(latest_info(backend=backend, job=job));\n",
    "    # need this to keep track internally of the latest queued job\n",
    "    latest_state.set_job(job=job, queue=True);\n",
    "\n",
    "action(num_shots=100);"
   ]
  },
  {
   "cell_type": "code",
   "execution_count": null,
   "metadata": {},
   "outputs": [],
   "source": [
    "@recover_job(queue=True, ensure_job_done=True, use_latest=True)\n",
    "def action(job: IBMQJob):\n",
    "    result = job.result();\n",
    "    counts, _ = get_counts(result);\n",
    "    display(QkVisualisation.plot_histogram(counts, title='Measurements'));\n",
    "\n",
    "action();"
   ]
  }
 ],
 "metadata": {
  "kernelspec": {
   "display_name": "Python 3.10.8 64-bit",
   "language": "python",
   "name": "python3"
  },
  "language_info": {
   "codemirror_mode": {
    "name": "ipython",
    "version": 3
   },
   "file_extension": ".py",
   "mimetype": "text/x-python",
   "name": "python",
   "nbconvert_exporter": "python",
   "pygments_lexer": "ipython3",
   "version": "3.10.8"
  }
 },
 "nbformat": 4,
 "nbformat_minor": 2
}
