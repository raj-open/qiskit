{
 "cells": [
  {
   "cell_type": "markdown",
   "metadata": {},
   "source": [
    "# Examples #"
   ]
  },
  {
   "cell_type": "code",
   "execution_count": null,
   "metadata": {},
   "outputs": [],
   "source": [
    "# imports\n",
    "import os;\n",
    "import sys;\n",
    "\n",
    "# NOTE: need this to force jupyter to reload imports:\n",
    "for key in list(sys.modules.keys()):\n",
    "    if key.startswith('src.'):\n",
    "        del sys.modules[key];\n",
    "\n",
    "os.chdir(os.path.dirname(_dh[0]));\n",
    "sys.path.insert(0, os.getcwd());\n",
    "\n",
    "from src.thirdparty.maths import *;\n",
    "from src.thirdparty.quantum import *;\n",
    "from src.thirdparty.render import *;\n",
    "from src.api import *;\n",
    "from src.algorithms import *;\n",
    "\n",
    "np.random.seed(39102901); # for repeatability"
   ]
  },
  {
   "cell_type": "code",
   "execution_count": null,
   "metadata": {},
   "outputs": [],
   "source": [
    "# NOTE: Avoid repeating this cell.\n",
    "provider = get_ibm_account(force_reload=False);\n",
    "display(provider.backends())"
   ]
  },
  {
   "cell_type": "code",
   "execution_count": null,
   "metadata": {},
   "outputs": [],
   "source": [
    "# Simulation with Aer backend\n",
    "@connect_to_backend(option=BACKEND_SIMULATOR.AER)\n",
    "def action(option, backend):\n",
    "    circuit = QuantumCircuit(2);\n",
    "    circuit.h(0);\n",
    "    circuit.cx(0, 1);\n",
    "    circuit.measure_all();\n",
    "    display(circuit.draw(output=DRAW_MODE.COLOUR.value, cregbundle=False, initial_state=True));\n",
    "    job = backend.run(circuit);\n",
    "    result = job.result();\n",
    "    counts = result.get_counts();\n",
    "    display(QkVisualisation.plot_histogram(counts));\n",
    "action();"
   ]
  },
  {
   "cell_type": "code",
   "execution_count": null,
   "metadata": {},
   "outputs": [],
   "source": [
    "@connect_to_backend(option=BACKEND_SIMULATOR.UNITARY)\n",
    "def action(option, backend):\n",
    "    circuit = QuantumCircuit(1);\n",
    "    circuit.u(np.pi/2,np.pi/2,np.pi/2,0);\n",
    "    display(circuit.draw(output=DRAW_MODE.COLOUR.value, cregbundle=False, initial_state=False));\n",
    "    job = backend.run(qk_transpile(circuit, backend));\n",
    "    result = job.result();\n",
    "    display(array_to_latex(result.get_unitary(circuit, decimals=3)));"
   ]
  }
 ],
 "metadata": {
  "kernelspec": {
   "display_name": "Python 3.10.8 64-bit",
   "language": "python",
   "name": "python3"
  },
  "language_info": {
   "codemirror_mode": {
    "name": "ipython",
    "version": 3
   },
   "file_extension": ".py",
   "mimetype": "text/x-python",
   "name": "python",
   "nbconvert_exporter": "python",
   "pygments_lexer": "ipython3",
   "version": "3.10.8"
  }
 },
 "nbformat": 4,
 "nbformat_minor": 2
}
