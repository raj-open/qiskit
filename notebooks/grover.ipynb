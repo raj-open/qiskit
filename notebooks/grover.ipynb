{
 "cells": [
  {
   "cell_type": "markdown",
   "metadata": {},
   "source": [
    "# Grover's Algorithm #\n",
    "\n",
    "The methods for developing the circuits can be found in [src/algorithms/grover.py](../src/algorithms/grover.py)."
   ]
  },
  {
   "cell_type": "code",
   "execution_count": null,
   "metadata": {},
   "outputs": [],
   "source": [
    "'''IMPORTS'''\n",
    "import os;\n",
    "import sys;\n",
    "\n",
    "# NOTE: need this to force jupyter to reload imports:\n",
    "for key in list(sys.modules.keys()):\n",
    "    if key.startswith('src.'):\n",
    "        del sys.modules[key];\n",
    "\n",
    "os.chdir(os.path.dirname(_dh[0]));\n",
    "sys.path.insert(0, os.getcwd());\n",
    "\n",
    "from src.thirdparty.maths import *;\n",
    "from src.thirdparty.quantum import *;\n",
    "from src.thirdparty.render import *;\n",
    "from src.api import *;\n",
    "from src.algorithms import *;\n",
    "from src.demo.grover import *;\n",
    "\n",
    "np.random.seed(39102901); # for repeatability"
   ]
  },
  {
   "cell_type": "code",
   "execution_count": null,
   "metadata": {},
   "outputs": [],
   "source": [
    "'''Example with simulator'''\n",
    "action_prepare_circuit_and_job(\n",
    "    option=BACKEND_SIMULATOR.QASM,\n",
    "    n = 4,\n",
    "    k = 2,\n",
    "    num_shots = 1000,\n",
    ");\n",
    "\n",
    "action_display_statistics(queue=False);"
   ]
  },
  {
   "cell_type": "code",
   "execution_count": null,
   "metadata": {},
   "outputs": [],
   "source": [
    "'''Example with IBM cloud backend (queue)'''\n",
    "action_prepare_circuit_and_job(\n",
    "    option=BACKEND.LEAST_BUSY,\n",
    "    n = 4,\n",
    "    k = 2,\n",
    "    num_shots = 1000,\n",
    ");"
   ]
  },
  {
   "cell_type": "code",
   "execution_count": null,
   "metadata": {},
   "outputs": [],
   "source": [
    "'''Statistics for backend job - NOTE: job may be pending'''\n",
    "action_display_statistics(queue=True);"
   ]
  }
 ],
 "metadata": {
  "kernelspec": {
   "display_name": "Python 3.10.8 64-bit",
   "language": "python",
   "name": "python3"
  },
  "language_info": {
   "codemirror_mode": {
    "name": "ipython",
    "version": 3
   },
   "file_extension": ".py",
   "mimetype": "text/x-python",
   "name": "python",
   "nbconvert_exporter": "python",
   "pygments_lexer": "ipython3",
   "version": "3.10.8"
  }
 },
 "nbformat": 4,
 "nbformat_minor": 2
}
