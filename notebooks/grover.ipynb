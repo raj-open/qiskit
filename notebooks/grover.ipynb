{
 "cells": [
  {
   "cell_type": "markdown",
   "metadata": {},
   "source": [
    "# [Grover's Algorithm](../notebooks/grover.ipynb) #\n",
    "\n",
    "The methods for developing the circuits can be found in [src/algorithms/grover.py](../src/algorithms/grover.py). This notebook demonstrates Grover's search algorithm. This consists is used to solve the following\n",
    "\n",
    "> **Problem:** Given a function $f:\\{0,1\\}^{n} \\to \\{0,1\\}$ find any (or all) $x\\in\\{0,1\\}^{n}$ for which $f(x)=1$.\n",
    "\n",
    "and an approach via quantum computing consists of the following:\n",
    "\n",
    "1. Construct a **phase oracle** $P_{f}$ for the oracle $U_{f}$.\n",
    "2. Construct the Grover Iterator, $G = P_{0^{\\perp}}P_{f}$, which assists with amplitude amplification.\n",
    "3. Determine the optimal number of iterations $r\\in\\mathbb{N}$, which depends on the number of possible solutions to the problem via $r \\approx \\frac{\\pi}{4\\arcsin(\\sqrt{m/2^{n}})} - \\frac{1}{2}$.\n",
    "4. Prepare a quantum circuit applying the $n$-fold Hadamard operator to the input gates followed by $r$ iterations of $G$.\n",
    "\n",
    "Provided the (phase) oracle works, the theory (cf. §8.1 and in particular Thm 8.1.1 in [^1]) yields that the final state of the circuit is a vector which has an optimal amplification of the basis vectors corresponding to solutions to the problem. Measuring the final state thus yields a solution with high probability.\n",
    "\n",
    "## Constructing the phase oracle ##\n",
    "\n",
    "We can consider the _Boolean satisfiability problem_ (or SAT).\n",
    "An instance of this problem is a formula $F$ in propositional logic in _conjunctive normal form_ (CNF) and depending on $n$ atoms $x_{1},x_{2},\\ldots,x_{n}$. The goal is to determine truth values (or values in $\\{0,1\\}$) which make $F$ true, i.e. $f$ is here simply the evaluation of $F$ under different assignments for the atoms.\n",
    "\n",
    "The DIMACS standard (cf. <https://people.sc.fsu.edu/~jburkardt/data/cnf/cnf.html>) can be used to encode descriptions of such problems.\n",
    "Relying on the [grammar](../assets/DIMACS.lark), in the source code a [parser](../src/parsers/dimacs.py) is used to [extract problem descriptions](../src/models/boolsat/dimacs.py) from files.\n",
    "\n",
    "The above website provides some examples files, which we store in a **data** folder. Users can download these or create their own SAT problems, and use correspondingly adjust the paths in the cells in this notebook.\n",
    "\n",
    "## Demonstration ##\n",
    "\n",
    "See [examples/grover.md](../examples/grover.md).\n",
    "\n",
    "----\n",
    "[^1]: P. Kaye, R. Laflamme, and M. Mosca. _An introduction to quantum computing._ Oxford University Press, Oxford, **2007**."
   ]
  },
  {
   "cell_type": "code",
   "execution_count": null,
   "metadata": {},
   "outputs": [],
   "source": [
    "'''IMPORTS'''\n",
    "import os;\n",
    "import sys;\n",
    "\n",
    "# NOTE: need this to force jupyter to reload imports:\n",
    "for key in list(sys.modules.keys()):\n",
    "    if key.startswith('src.'):\n",
    "        del sys.modules[key];\n",
    "\n",
    "os.chdir(os.path.dirname(_dh[0]));\n",
    "sys.path.insert(0, os.getcwd());\n",
    "\n",
    "from src.thirdparty.quantum import *;\n",
    "from src.setup import *;\n",
    "from src.demo.grover import *;\n",
    "\n",
    "set_rng_seed(); # for repeatability"
   ]
  },
  {
   "cell_type": "code",
   "execution_count": null,
   "metadata": {},
   "outputs": [],
   "source": [
    "basic_action_display_circuit(path='data/simple_v3_c2.txt', q_min=0.1, prob_min=0.01);"
   ]
  },
  {
   "cell_type": "code",
   "execution_count": null,
   "metadata": {},
   "outputs": [],
   "source": [
    "'''Example with simulator'''\n",
    "action_prepare_circuit_and_job(\n",
    "    option=BACKEND_SIMULATOR.QASM,\n",
    "    num_shots = 1000,\n",
    "    path = 'data/simple_v3_c2.txt',\n",
    "    verbose = False,\n",
    ");\n",
    "\n",
    "action_display_statistics(queue=False, as_widget=False);"
   ]
  },
  {
   "cell_type": "code",
   "execution_count": null,
   "metadata": {},
   "outputs": [],
   "source": [
    "'''Example with IBM cloud backend (queue)'''\n",
    "action_prepare_circuit_and_job(\n",
    "    option=BACKEND.LEAST_BUSY,\n",
    "    num_shots = 1000,\n",
    "    path = 'data/simple_v3_c2.txt',\n",
    "    verbose = False,\n",
    ");\n",
    "\n",
    "action_display_statistics(queue=True, as_widget=True);"
   ]
  },
  {
   "cell_type": "code",
   "execution_count": null,
   "metadata": {},
   "outputs": [],
   "source": [
    "'''Statistics for backend job - NOTE: job may be pending'''\n",
    "action_display_statistics(\n",
    "    queue = True,\n",
    "    as_widget = False,\n",
    "    # Use following to manually select a backend + job; otherwise tries to retrieve last job.\n",
    "    # job_id = 'abcd1234', \n",
    "    # backend_option = BACKEND. ,\n",
    ");"
   ]
  }
 ],
 "metadata": {
  "kernelspec": {
   "display_name": "Python 3.10.8 64-bit",
   "language": "python",
   "name": "python3"
  },
  "language_info": {
   "codemirror_mode": {
    "name": "ipython",
    "version": 3
   },
   "file_extension": ".py",
   "mimetype": "text/x-python",
   "name": "python",
   "nbconvert_exporter": "python",
   "pygments_lexer": "ipython3",
   "version": "3.10.8"
  }
 },
 "nbformat": 4,
 "nbformat_minor": 2
}
