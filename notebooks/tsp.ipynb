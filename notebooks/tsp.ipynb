{
 "cells": [
  {
   "cell_type": "markdown",
   "metadata": {},
   "source": [
    "# QuBO for the TSP #"
   ]
  },
  {
   "cell_type": "code",
   "execution_count": null,
   "metadata": {},
   "outputs": [],
   "source": [
    "# imports\n",
    "import os;\n",
    "import sys;\n",
    "\n",
    "# NOTE: need this to force jupyter to reload imports:\n",
    "for key in list(sys.modules.keys()):\n",
    "    if key.startswith('src.'):\n",
    "        del sys.modules[key];\n",
    "\n",
    "os.chdir(os.path.dirname(_dh[0]));\n",
    "sys.path.insert(0, os.getcwd());\n",
    "\n",
    "from src.thirdparty.maths import *;\n",
    "from src.thirdparty.quantum import *;\n",
    "from src.thirdparty.render import *;\n",
    "\n",
    "from src.api.ibm import *;\n",
    "\n",
    "np.random.seed(39102901); # for repeatability"
   ]
  },
  {
   "cell_type": "markdown",
   "metadata": {},
   "source": [
    "## Ein Beispiel ##"
   ]
  },
  {
   "cell_type": "code",
   "execution_count": null,
   "metadata": {},
   "outputs": [],
   "source": [
    "n = 5;\n",
    "prob_edge = 0.8;\n",
    "E = [];\n",
    "d = np.zeros(shape=(n, n), dtype=int);\n",
    "for u in range(n):\n",
    "    for v in range(u + 1, n):\n",
    "        if np.random.rand() >= 1 - prob_edge:\n",
    "            E.append((u, v));\n",
    "            E.append((v, u));\n",
    "            d[v, u] = d[u, v] = np.random.randint(0, 10);\n",
    "print(f'Distance matrix\\n {d}');"
   ]
  },
  {
   "cell_type": "code",
   "execution_count": null,
   "metadata": {},
   "outputs": [],
   "source": [
    "H_B = np.zeros(shape=[n, n, n, n], dtype=int);\n",
    "for (u, v) in E:\n",
    "    for j in range(n):\n",
    "        H_B[u, j, v, (j + 1) % n] = d[u, v];\n",
    "H_B = H_B.reshape((n*n, n*n));\n",
    "print(f'Hamiltonian \\x1b[1mH_B\\x1b[0m for minimisation of distances:\\n{H_B}');"
   ]
  },
  {
   "cell_type": "code",
   "execution_count": null,
   "metadata": {},
   "outputs": [],
   "source": [
    "H_A = np.zeros(shape=[n, n, n, n], dtype=int);\n",
    "for u in range(n):\n",
    "    for v in range(n):\n",
    "        if (u, v) not in E:\n",
    "            for j in range(n):\n",
    "                H_A[u, j, v, (j + 1) % n] = 1;\n",
    "\n",
    "for u in range(n):\n",
    "    for i in range(n):\n",
    "        for j in range(n):\n",
    "            H_A[u, i, u, j] = 1;\n",
    "\n",
    "for j in range(n):\n",
    "    for u in range(n):\n",
    "        for v in range(n):\n",
    "            H_A[u, j, v, j] = 1;\n",
    "\n",
    "H_A = H_A.reshape((n*n, n*n));\n",
    "print(f'Hamiltonian \\x1b[1mH_A\\x1b[0m for path conditions:\\n{H_A}');"
   ]
  },
  {
   "cell_type": "code",
   "execution_count": null,
   "metadata": {},
   "outputs": [],
   "source": [
    "H = H_A + 0.1*H_B;\n",
    "print(np.abs(np.linalg.eigvals(H)));"
   ]
  }
 ],
 "metadata": {
  "kernelspec": {
   "display_name": "Python 3.10.8 64-bit",
   "language": "python",
   "name": "python3"
  },
  "language_info": {
   "codemirror_mode": {
    "name": "ipython",
    "version": 3
   },
   "file_extension": ".py",
   "mimetype": "text/x-python",
   "name": "python",
   "nbconvert_exporter": "python",
   "pygments_lexer": "ipython3",
   "version": "3.10.8"
  }
 },
 "nbformat": 4,
 "nbformat_minor": 2
}
