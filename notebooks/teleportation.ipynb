{
 "cells": [
  {
   "cell_type": "markdown",
   "metadata": {},
   "source": [
    "# Teleportation #\n",
    "\n",
    "The methods for developing the circuits can be found in [src/algorithms/teleport.py](../src/algorithms/teleport.py).\n",
    "\n",
    "## Description of test ##\n",
    "\n",
    "- After creation of the entangled pair,\n",
    "  a random state `|ψ⟩ = U|0⟩` is generated at start\n",
    "  via a 'randomly generated' unitary `U`.\n",
    "- To test that `|ψ⟩` is successfully teleported,\n",
    "  after the teleportation protocol, we apply the inverse of `U`\n",
    "  to Bob's state and measures it against `{|0⟩, |1⟩}`.\n",
    "  The teleportation is thus successful exactly in case this bit is consistently `|0⟩`.\n",
    "- We also expect that Alices bits be uniformly randomly distributed\n",
    "  at the end of the teleportation protocol.\n",
    "\n",
    "In the simulator, these expectations are indeed met.\n",
    "In the backend, these expectations are only approximately attained."
   ]
  },
  {
   "cell_type": "code",
   "execution_count": null,
   "metadata": {},
   "outputs": [],
   "source": [
    "''' IMPORTS '''\n",
    "import os;\n",
    "import sys;\n",
    "\n",
    "# NOTE: need this to force jupyter to reload imports:\n",
    "for key in list(sys.modules.keys()):\n",
    "    if key.startswith('src.'):\n",
    "        del sys.modules[key];\n",
    "\n",
    "os.chdir(os.path.dirname(_dh[0]));\n",
    "sys.path.insert(0, os.getcwd());\n",
    "\n",
    "from src.thirdparty.maths import *;\n",
    "from src.thirdparty.quantum import *;\n",
    "from src.demo.teleportation import *;\n",
    "\n",
    "np.random.seed(39102901); # for repeatability"
   ]
  },
  {
   "cell_type": "code",
   "execution_count": null,
   "metadata": {},
   "outputs": [],
   "source": [
    "action_display_circuit();"
   ]
  },
  {
   "cell_type": "code",
   "execution_count": null,
   "metadata": {},
   "outputs": [],
   "source": [
    "'''Example with simulator'''\n",
    "action_prepare_circuit_and_job(\n",
    "    option = BACKEND_SIMULATOR.AER,\n",
    "    num_samples = 100,\n",
    "    num_shots = 100,\n",
    ");\n",
    "\n",
    "action_display_statistics(queue=False);"
   ]
  },
  {
   "cell_type": "code",
   "execution_count": null,
   "metadata": {},
   "outputs": [],
   "source": [
    "'''Example with backend'''\n",
    "action_prepare_circuit_and_job(\n",
    "    option = BACKEND.LEAST_BUSY,\n",
    "    num_samples = 10, # <- do not set this too high!\n",
    "    num_shots = 100,\n",
    ");"
   ]
  },
  {
   "cell_type": "code",
   "execution_count": null,
   "metadata": {},
   "outputs": [],
   "source": [
    "'''Statistics for backend job - NOTE: job may be pending'''\n",
    "action_display_statistics(queue=True);"
   ]
  }
 ],
 "metadata": {
  "kernelspec": {
   "display_name": "Python 3.10.8 64-bit",
   "language": "python",
   "name": "python3"
  },
  "language_info": {
   "codemirror_mode": {
    "name": "ipython",
    "version": 3
   },
   "file_extension": ".py",
   "mimetype": "text/x-python",
   "name": "python",
   "nbconvert_exporter": "python",
   "pygments_lexer": "ipython3",
   "version": "3.10.8"
  }
 },
 "nbformat": 4,
 "nbformat_minor": 2
}
