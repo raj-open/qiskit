{
 "cells": [
  {
   "cell_type": "markdown",
   "metadata": {},
   "source": [
    "# Teleportation #"
   ]
  },
  {
   "cell_type": "code",
   "execution_count": null,
   "metadata": {},
   "outputs": [],
   "source": [
    "# imports\n",
    "import os;\n",
    "import sys;\n",
    "\n",
    "# NOTE: need this to force jupyter to reload imports:\n",
    "for key in list(sys.modules.keys()):\n",
    "    if key.startswith('src.'):\n",
    "        del sys.modules[key];\n",
    "\n",
    "os.chdir(os.path.dirname(_dh[0]));\n",
    "sys.path.insert(0, os.getcwd());\n",
    "\n",
    "from src.thirdparty.maths import *;\n",
    "from src.thirdparty.misc import *;\n",
    "from src.thirdparty.quantum import *;\n",
    "from src.thirdparty.render import *;\n",
    "\n",
    "from src.api.ibm import *;\n",
    "from src.algorithms import *;\n",
    "\n",
    "np.random.seed(39102901); # for repeatability"
   ]
  },
  {
   "cell_type": "code",
   "execution_count": null,
   "metadata": {},
   "outputs": [],
   "source": [
    "# Display Teleportation Circuit\n",
    "with CreateBackend(\n",
    "    kind = BACKEND_SIMULATOR.AER,\n",
    ") as backend:\n",
    "    print('Quantumcircuit for Teleportation:');\n",
    "    circuit = teleportation_protocol(include_entanglement=False);\n",
    "    display(circuit.draw(output=DRAW_MODE.COLOUR.value, cregbundle=False, initial_state=False));"
   ]
  },
  {
   "cell_type": "code",
   "execution_count": null,
   "metadata": {},
   "outputs": [],
   "source": [
    "# Run test of teleportation protocol\n",
    "NUM_SAMPLE = 100; # <- do not set this too high!\n",
    "NUM_SHOTS = 100;\n",
    "with CreateBackend(\n",
    "    kind = BACKEND_SIMULATOR.AER,\n",
    ") as backend:\n",
    "    print('Quantumcircuit for testing Teleportation protocol:');\n",
    "    circuit_scheme, params = teleportation_protocol_test();\n",
    "    display(circuit_scheme.draw(output=DRAW_MODE.COLOUR.value, cregbundle=False, initial_state=True));\n",
    "\n",
    "    print(dedent('''\n",
    "    \\x1b[1mNOTE:\\x1b[0m\n",
    "    1) Random state \\x1b[1m|ψ⟩ = U|0⟩\\x1b[0m generated at start.\n",
    "       To test that \\x1b[1m|ψ⟩\\x1b[0m was teleported,\n",
    "       Bob applies the inverse of \\x1b[1mU\\x1b[0m and measures his state.\n",
    "       If \\x1b[1mcbit 3 = |0⟩\\x1b[0m, then teleportation successful.\n",
    "    2) We expect cbits 1+2 to be uniformly randomly distributed.\n",
    "    '''));\n",
    "    \n",
    "    # instantiate schema with random values:\n",
    "    circuits = [\n",
    "        circuit_scheme.bind_parameters({\n",
    "            param_i: value_i\n",
    "            for param_i, value_i in zip(params, values)\n",
    "        })\n",
    "        for values in random_unitary_parameters(n=NUM_SAMPLE)\n",
    "    ];\n",
    "\n",
    "    # transpile + assemble\n",
    "    circuits = qk_assemble([ qk_transpile(circuit, backend) for circuit in circuits ]);\n",
    "\n",
    "    # run job and obtain results:\n",
    "    job = backend.run(circuits, shots=NUM_SHOTS);\n",
    "    result = job.result();\n",
    "\n",
    "    # extract statitics:\n",
    "    # NOTE: qiskit orders the measured bits from buttom to top, so reverse this.\n",
    "    counts = {};\n",
    "    counts_12 = {};\n",
    "    counts_3 = {};\n",
    "    for count in result.get_counts():\n",
    "        for key, value in count.items():\n",
    "            counts[key] = counts.get(key, 0) + value;\n",
    "    counts = { key[::-1]: value for key, value in counts.items() };\n",
    "    counts_12 = {\n",
    "        key: sum([value for key_, value in counts.items() if key_[:2] == key])\n",
    "        for key in ['00', '01', '10', '11']\n",
    "    };\n",
    "    counts_3 = {\n",
    "        key: sum([value for key_, value in counts.items() if key_[2] == key])\n",
    "        for key in ['0', '1']\n",
    "    };\n",
    "\n",
    "    display(QkVisualisation.plot_histogram(counts_12, title='Measurements of 1st + 2nd QBit (Alice)'));\n",
    "    display(QkVisualisation.plot_histogram(counts_3, title='Measurements of 3rd QBit (Bob)'));\n"
   ]
  }
 ],
 "metadata": {
  "kernelspec": {
   "display_name": "Python 3.10.8 64-bit",
   "language": "python",
   "name": "python3"
  },
  "language_info": {
   "codemirror_mode": {
    "name": "ipython",
    "version": 3
   },
   "file_extension": ".py",
   "mimetype": "text/x-python",
   "name": "python",
   "nbconvert_exporter": "python",
   "pygments_lexer": "ipython3",
   "version": "3.10.8"
  }
 },
 "nbformat": 4,
 "nbformat_minor": 2
}
