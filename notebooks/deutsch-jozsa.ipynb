{
 "cells": [
  {
   "cell_type": "markdown",
   "metadata": {},
   "source": [
    "# [Deutsch-Jozsa Algorithm](../notebooks/deutsch_jozsa.ipynb) #\n",
    "\n",
    "The methods for developing the circuits can be found in [src/algorithms/deutsch_jozsa.py](../src/algorithms/deutsch_jozsa.py).\n",
    "\n",
    "## Demonstration ##\n",
    "\n",
    "See [examples/deutsch_jozsa.md](../examples/deutsch_jozsa.md)"
   ]
  },
  {
   "cell_type": "code",
   "execution_count": null,
   "metadata": {},
   "outputs": [],
   "source": [
    "'''IMPORTS'''\n",
    "import os;\n",
    "import sys;\n",
    "\n",
    "# NOTE: need this to force jupyter to reload imports:\n",
    "for key in list(sys.modules.keys()):\n",
    "    if key.startswith('src.'):\n",
    "        del sys.modules[key];\n",
    "\n",
    "os.chdir(os.path.dirname(_dh[0]));\n",
    "sys.path.insert(0, os.getcwd());\n",
    "\n",
    "from src.thirdparty.quantum import *;\n",
    "from src.setup import *;\n",
    "from src.demo.deutsch_jozsa import *;\n",
    "\n",
    "set_rng_seed(); # for repeatability"
   ]
  },
  {
   "cell_type": "code",
   "execution_count": null,
   "metadata": {},
   "outputs": [],
   "source": [
    "'''Example with simulator'''\n",
    "action_prepare_circuit_and_job(\n",
    "    option = BACKEND_SIMULATOR.AER,\n",
    "    num_shots = 1000,\n",
    "    n = 4,\n",
    ");\n",
    "\n",
    "action_display_statistics(queue=False, as_widget=False);"
   ]
  },
  {
   "cell_type": "code",
   "execution_count": null,
   "metadata": {},
   "outputs": [],
   "source": [
    "'''Example with IBM cloud backend (queue)'''\n",
    "action_prepare_circuit_and_job(\n",
    "    option = BACKEND.LEAST_BUSY,\n",
    "    num_shots = 10000,\n",
    "    n = 4,\n",
    ");\n",
    "\n",
    "action_display_statistics(queue=True, as_widget=True);"
   ]
  },
  {
   "cell_type": "code",
   "execution_count": null,
   "metadata": {},
   "outputs": [],
   "source": [
    "'''Statistics for backend job - NOTE: job may be pending'''\n",
    "action_display_statistics(\n",
    "    queue = True,\n",
    "    as_widget = False,\n",
    "    # Use following to manually select a backend + job; otherwise tries to retrieve last job.\n",
    "    # job_id = 'abcd1234', \n",
    "    # backend_option = BACKEND. ,\n",
    ");"
   ]
  }
 ],
 "metadata": {
  "kernelspec": {
   "display_name": "Python 3.10.8 64-bit",
   "language": "python",
   "name": "python3"
  },
  "language_info": {
   "codemirror_mode": {
    "name": "ipython",
    "version": 3
   },
   "file_extension": ".py",
   "mimetype": "text/x-python",
   "name": "python",
   "nbconvert_exporter": "python",
   "pygments_lexer": "ipython3",
   "version": "3.10.8"
  }
 },
 "nbformat": 4,
 "nbformat_minor": 2
}
