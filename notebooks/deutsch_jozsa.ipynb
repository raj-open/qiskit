{
 "cells": [
  {
   "cell_type": "markdown",
   "metadata": {},
   "source": [
    "# Deutsch-Jozsa Algorithm #"
   ]
  },
  {
   "cell_type": "code",
   "execution_count": null,
   "metadata": {},
   "outputs": [],
   "source": [
    "# imports\n",
    "import os;\n",
    "import sys;\n",
    "\n",
    "# NOTE: need this to force jupyter to reload imports:\n",
    "for key in list(sys.modules.keys()):\n",
    "    if key.startswith('src.'):\n",
    "        del sys.modules[key];\n",
    "\n",
    "os.chdir(os.path.dirname(_dh[0]));\n",
    "sys.path.insert(0, os.getcwd());\n",
    "\n",
    "from src.thirdparty.maths import *;\n",
    "from src.thirdparty.misc import *;\n",
    "from src.thirdparty.quantum import *;\n",
    "from src.thirdparty.render import *;\n",
    "\n",
    "from src.widgets import *;\n",
    "from src.api.ibm import *;\n",
    "from src.api.statistics import *;\n",
    "from src.algorithms import *;\n",
    "\n",
    "np.random.seed(39102901); # for repeatability"
   ]
  },
  {
   "cell_type": "code",
   "execution_count": null,
   "metadata": {},
   "outputs": [],
   "source": [
    "n = 4;\n",
    "oraclenr = np.random.randint(0, 2);\n",
    "circuit = deutsch_jozsa_algorithm(n=n, oraclenr=oraclenr, verbose=True);\n",
    "display(circuit.draw(output=DRAW_MODE.COLOUR.value, cregbundle=False, initial_state=True));"
   ]
  },
  {
   "cell_type": "code",
   "execution_count": null,
   "metadata": {},
   "outputs": [],
   "source": [
    "@connect_to_backend(kind=BACKEND_SIMULATOR.AER)\n",
    "def action(kind, backend):\n",
    "    shots = 10000;\n",
    "    circuit = deutsch_jozsa_algorithm(n=n, verbose=True);\n",
    "    job = qk_execute(experiments=circuit, backend=backend, shots=shots);\n",
    "    result = job.result();\n",
    "    counts, _ = get_counts(result);\n",
    "    display(QkVisualisation.plot_histogram(counts));\n",
    "action();"
   ]
  },
  {
   "cell_type": "code",
   "execution_count": null,
   "metadata": {},
   "outputs": [],
   "source": [
    "# Run with cloud computing\n",
    "NUM_SHOTS = 20000;\n",
    "@connect_to_backend(kind=BACKEND.LEAST_BUSY, n=n+1)\n",
    "def action(kind, backend):\n",
    "    circuit = deutsch_jozsa_algorithm(n=n);\n",
    "    %qiskit_job_watcher\n",
    "    job = qk_execute(experiments=circuit, backend=backend, shots=NUM_SHOTS, optimization_level=3);\n",
    "    print(dedent(f'''\n",
    "        \\x1b[1mNOTE:\\x1b[0m\n",
    "        - 'least busy' backend: \\x1b[1m{str(backend)}\\x1b[0m\n",
    "        - job index:            \\x1b[1m{job.job_id()}\\x1b[0m\n",
    "    '''));\n",
    "action();"
   ]
  },
  {
   "cell_type": "code",
   "execution_count": null,
   "metadata": {},
   "outputs": [],
   "source": [
    "# extract statitics:\n",
    "@recover_job(ensure_job_done=True)\n",
    "def action(job: IBMQJob):\n",
    "    result = job.result();\n",
    "    counts, _ = get_counts(result);\n",
    "    display(\n",
    "        QkVisualisation.plot_histogram(counts, title='Measurements'),\n",
    "    );\n",
    "\n",
    "action();"
   ]
  }
 ],
 "metadata": {
  "kernelspec": {
   "display_name": "Python 3.10.8 64-bit",
   "language": "python",
   "name": "python3"
  },
  "language_info": {
   "codemirror_mode": {
    "name": "ipython",
    "version": 3
   },
   "file_extension": ".py",
   "mimetype": "text/x-python",
   "name": "python",
   "nbconvert_exporter": "python",
   "pygments_lexer": "ipython3",
   "version": "3.10.8"
  }
 },
 "nbformat": 4,
 "nbformat_minor": 2
}
