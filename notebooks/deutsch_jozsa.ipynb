{
 "cells": [
  {
   "cell_type": "markdown",
   "metadata": {},
   "source": [
    "# Deutsch-Jozsa Algorithm #"
   ]
  },
  {
   "cell_type": "code",
   "execution_count": null,
   "metadata": {},
   "outputs": [],
   "source": [
    "# imports\n",
    "import os;\n",
    "import sys;\n",
    "\n",
    "# NOTE: need this to force jupyter to reload imports:\n",
    "for key in list(sys.modules.keys()):\n",
    "    if key.startswith('src.'):\n",
    "        del sys.modules[key];\n",
    "\n",
    "os.chdir(os.path.dirname(_dh[0]));\n",
    "sys.path.insert(0, os.getcwd());\n",
    "\n",
    "from src.thirdparty.maths import *;\n",
    "from src.thirdparty.quantum import *;\n",
    "from src.thirdparty.render import *;\n",
    "\n",
    "from src.api.ibm import *;\n",
    "from src.algorithms import *;\n",
    "\n",
    "np.random.seed(39102901); # for repeatability"
   ]
  },
  {
   "cell_type": "code",
   "execution_count": null,
   "metadata": {},
   "outputs": [],
   "source": [
    "# NOTE: Avoid repeating this cell.\n",
    "provider = connect_to_ibm_account(force_reload=False);\n",
    "display(provider.backends());"
   ]
  },
  {
   "cell_type": "code",
   "execution_count": null,
   "metadata": {},
   "outputs": [],
   "source": [
    "nr_qubits = 4;\n",
    "oraclenr = np.random.randint(0, 2);\n",
    "circuit = deutsch_jozsa_algorithm(n=nr_qubits, oraclenr=oraclenr, verbose=True);\n",
    "display(circuit.draw());"
   ]
  },
  {
   "cell_type": "code",
   "execution_count": null,
   "metadata": {},
   "outputs": [],
   "source": [
    "with CreateBackend(\n",
    "    provider = provider,\n",
    "    kind = BACKEND_SIMULATOR.AER,\n",
    ") as backend:\n",
    "    shots = 10000;\n",
    "    circuit = deutsch_jozsa_algorithm(n=nr_qubits, verbose=True);\n",
    "    job = qk_execute(experiments=circuit, backend=backend, shots=shots);\n",
    "    result = job.result();\n",
    "    counts = result.get_counts();\n",
    "    display(QkVisualisation.plot_histogram(counts));"
   ]
  },
  {
   "cell_type": "code",
   "execution_count": null,
   "metadata": {},
   "outputs": [],
   "source": [
    "with CreateBackend(\n",
    "    provider = provider,\n",
    "    nr_qubits = nr_qubits + 1,\n",
    "    kind = BACKEND.LEAST_BUSY,\n",
    ") as backend:\n",
    "    shots = 20000;\n",
    "    circuit = deutsch_jozsa_algorithm(n=nr_qubits);\n",
    "    print(f'Least busy backend: \\x1b[1m{backend}\\x1b[0m (note for later usage).');\n",
    "    %qiskit_job_watcher\n",
    "    job = qk_execute(experiments=circuit, backend=backend, shots=shots, optimization_level=3);\n",
    "    print(f'Note this job id for later usage: \\x1b[1m{job.job_id()}\\x1b[0m.');"
   ]
  },
  {
   "cell_type": "code",
   "execution_count": null,
   "metadata": {},
   "outputs": [],
   "source": [
    "# User input for previous/current job:\n",
    "job_index = 'xyz1234';\n",
    "kind = BACKEND.OSLO;"
   ]
  },
  {
   "cell_type": "code",
   "execution_count": null,
   "metadata": {},
   "outputs": [],
   "source": [
    "job = get_past_job(job_index=job_index, kind=kind, provider=provider);\n",
    "print(f'Job status: \\x1b[92;1m{job.status()}\\x1b[0m');\n",
    "if job.done():\n",
    "    result = job.result();\n",
    "    counts = result.get_counts();\n",
    "    display(QkVisualisation.plot_histogram(counts));"
   ]
  }
 ],
 "metadata": {
  "kernelspec": {
   "display_name": "Python 3.10.8 64-bit",
   "language": "python",
   "name": "python3"
  },
  "language_info": {
   "codemirror_mode": {
    "name": "ipython",
    "version": 3
   },
   "file_extension": ".py",
   "mimetype": "text/x-python",
   "name": "python",
   "nbconvert_exporter": "python",
   "pygments_lexer": "ipython3",
   "version": "3.10.8"
  }
 },
 "nbformat": 4,
 "nbformat_minor": 2
}
